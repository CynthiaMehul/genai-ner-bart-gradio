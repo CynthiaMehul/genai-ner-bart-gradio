{
 "cells": [
  {
   "cell_type": "code",
   "execution_count": 22,
   "id": "b82e8ff9",
   "metadata": {
    "height": 98
   },
   "outputs": [],
   "source": [
    "import os\n",
    "import json\n",
    "import requests\n",
    "import gradio as gr\n",
    "from dotenv import load_dotenv"
   ]
  },
  {
   "cell_type": "code",
   "execution_count": 23,
   "id": "6f976a16",
   "metadata": {
    "height": 64
   },
   "outputs": [],
   "source": [
    "load_dotenv()\n",
    "API_URL = os.environ['HF_API_NER_BASE']\n",
    "hf_api_key = os.environ['HF_API_KEY']"
   ]
  },
  {
   "cell_type": "code",
   "execution_count": 24,
   "id": "51524628",
   "metadata": {
    "height": 183
   },
   "outputs": [],
   "source": [
    "def get_completion(inputs, parameters=None, ENDPOINT_URL=API_URL):\n",
    "    headers = {\n",
    "        \"Authorization\": f\"Bearer {hf_api_key}\",\n",
    "        \"Content-Type\": \"application/json\"\n",
    "    }\n",
    "    data = {\"inputs\": inputs}\n",
    "    if parameters:\n",
    "        data[\"parameters\"] = parameters\n",
    "    response = requests.post(ENDPOINT_URL, headers=headers, data=json.dumps(data))\n",
    "    return json.loads(response.content.decode(\"utf-8\"))"
   ]
  },
  {
   "cell_type": "code",
   "execution_count": 25,
   "id": "740dc4e9",
   "metadata": {
    "height": 215
   },
   "outputs": [],
   "source": [
    "def merge_tokens(tokens):\n",
    "    merged_tokens = []\n",
    "    for token in tokens:\n",
    "        if merged_tokens and token['entity'].startswith('I-') and merged_tokens[-1]['entity'].endswith(token['entity'][2:]):\n",
    "            last_token = merged_tokens[-1]\n",
    "            last_token['word'] += token['word'].replace('##', '')\n",
    "            last_token['end'] = token['end']\n",
    "            last_token['score'] = (last_token['score'] + token['score']) / 2\n",
    "        else:\n",
    "            merged_tokens.append(token)\n",
    "    return merged_tokens"
   ]
  },
  {
   "cell_type": "code",
   "execution_count": 32,
   "id": "32a5d4a6",
   "metadata": {
    "height": 234
   },
   "outputs": [
    {
     "name": "stdout",
     "output_type": "stream",
     "text": [
      "Closing server running on port: 7860\n",
      "Closing server running on port: 7862\n",
      "Closing server running on port: 7862\n",
      "Closing server running on port: 7860\n",
      "Closing server running on port: 7862\n",
      "Closing server running on port: 7860\n",
      "Closing server running on port: 7860\n",
      "Closing server running on port: 7862\n",
      "Running on local URL:  https://0.0.0.0:7860\n",
      "IMPORTANT: You are using gradio version 3.37.0, however version 4.44.1 is available, please upgrade.\n",
      "--------\n",
      "\n",
      "Could not create share link. Missing file: /usr/local/lib/python3.9/site-packages/gradio/frpc_linux_amd64_v0.2. \n",
      "\n",
      "Please check your internet connection. This can happen if your antivirus software blocks the download of this file. You can install manually by following these steps: \n",
      "\n",
      "1. Download this file: https://cdn-media.huggingface.co/frpc-gradio-0.2/frpc_linux_amd64\n",
      "2. Rename the downloaded file to: frpc_linux_amd64_v0.2\n",
      "3. Move the file to this location: /usr/local/lib/python3.9/site-packages/gradio\n"
     ]
    },
    {
     "data": {
      "text/html": [
       "<div><iframe src=\"https://s172-29-45-153p7860.lab-aws-production.deeplearning.ai/\" width=\"100%\" height=\"500\" allow=\"autoplay; camera; microphone; clipboard-read; clipboard-write;\" frameborder=\"0\" allowfullscreen></iframe></div>"
      ],
      "text/plain": [
       "<IPython.core.display.HTML object>"
      ]
     },
     "metadata": {},
     "output_type": "display_data"
    },
    {
     "data": {
      "text/plain": []
     },
     "execution_count": 32,
     "metadata": {},
     "output_type": "execute_result"
    }
   ],
   "source": [
    "def ner(input):\n",
    "    output = get_completion(input)\n",
    "    return {\"text\": input, \"entities\": merge_tokens(output)}\n",
    "gr.close_all()\n",
    "demo = gr.Interface(fn=ner,\n",
    "    inputs=[gr.Textbox(label=\"Text to find entities\", lines=2)],\n",
    "    outputs=[gr.HighlightedText(label=\"Text with entities\")],\n",
    "    title=\"Named Entity Recognition\",\n",
    "    description=\"Find entities in the given text\",\n",
    "    allow_flagging=\"never\",\n",
    "    examples=[\"I'm Cynthia, I live in Chennai and I study engineering\", \"My name is Serena, I work at the High Court\"]\n",
    ")\n",
    "demo.launch(share=True, server_port=7860)"
   ]
  },
  {
   "cell_type": "code",
   "execution_count": null,
   "id": "4da302e5",
   "metadata": {
    "height": 30
   },
   "outputs": [],
   "source": []
  }
 ],
 "metadata": {
  "kernelspec": {
   "display_name": "Python 3 (ipykernel)",
   "language": "python",
   "name": "python3"
  },
  "language_info": {
   "codemirror_mode": {
    "name": "ipython",
    "version": 3
   },
   "file_extension": ".py",
   "mimetype": "text/x-python",
   "name": "python",
   "nbconvert_exporter": "python",
   "pygments_lexer": "ipython3",
   "version": "3.9.19"
  }
 },
 "nbformat": 4,
 "nbformat_minor": 5
}
